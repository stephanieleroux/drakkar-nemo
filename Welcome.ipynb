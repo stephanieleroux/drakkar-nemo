{
 "cells": [
  {
   "cell_type": "markdown",
   "id": "dacabda3-7158-479f-845f-bffc76349c47",
   "metadata": {
    "tags": []
   },
   "source": [
    "# Analysing NEMO outputs on the cloud\n",
    "\n",
    "## Welcome to the Drakkar's Jupyterhub deployed for this hands-on session !\n",
    "\n",
    " - First notebook to get familiar with cloud data, xarray and dask : [Basics notebook](Basics.ipynb) \n",
    "\n",
    " - Computation of spectrum : [Spectra eNATL60 notebook](Spectra-eNATL60.ipynb)\n",
    "\n",
    " - Filtering the data : [Filter eNATL60 ntebook](Filter-eNATL60.ipynb)\n",
    " \n",
    "## Keep track of what you have done\n",
    "\n",
    "Two ways : \n",
    "  \n",
    "  - back-up your work on a github repo (instructions below)\n",
    "  \n",
    "or \n",
    "\n",
    "  - copy your notebooks and plots in the shared-readwrite and I will make it available to all later\n",
    "  \n",
    "### Your github repo on the cloud\n",
    "\n",
    " - on the cloud, click on the plus sign to launch a terminal\n",
    " - generate a ssh key with ```ssh-keygen``` and press enter 3 times\n",
    " - open your SSH-key with ```cat .ssh/id_rsa.pub``` and copy it\n",
    " - on your github account, click on the top right icon and select settings\n",
    " - click on SSH and GPG keys, then New SSH, fill the Title field and paste your SSK key in the Key field\n",
    " - create a repository and copy the SSH clone adress (it starts with git@github.com:)\n",
    " - back to the cloud, in the terminal, clone the repo with ```git clone git@github.com:...```\n",
    " - move your notebooks in it and push it back on github with ```git add *```, then ```git commit -m 'comment'``` and then ```git push```\n",
    " - it will ask you to run ```git config --global user.email \"you@example.com\"``` and ```git config --global user.name \"Your Name\"``` before the commit\n",
    "\n",
    "Introduction's slides are available [here](Introduction.ipynb)"
   ]
  },
  {
   "cell_type": "code",
   "execution_count": null,
   "id": "2911fa68-c54e-4e01-bacf-274d944e3e3c",
   "metadata": {},
   "outputs": [],
   "source": []
  }
 ],
 "metadata": {
  "kernelspec": {
   "display_name": "Python 3 (ipykernel)",
   "language": "python",
   "name": "python3"
  },
  "language_info": {
   "codemirror_mode": {
    "name": "ipython",
    "version": 3
   },
   "file_extension": ".py",
   "mimetype": "text/x-python",
   "name": "python",
   "nbconvert_exporter": "python",
   "pygments_lexer": "ipython3",
   "version": "3.10.8"
  }
 },
 "nbformat": 4,
 "nbformat_minor": 5
}
